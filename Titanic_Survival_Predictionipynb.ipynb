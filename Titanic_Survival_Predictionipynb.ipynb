{
  "nbformat": 4,
  "nbformat_minor": 0,
  "metadata": {
    "colab": {
      "provenance": [],
      "include_colab_link": true
    },
    "kernelspec": {
      "name": "python3",
      "display_name": "Python 3"
    }
  },
  "cells": [
    {
      "cell_type": "markdown",
      "metadata": {
        "id": "view-in-github",
        "colab_type": "text"
      },
      "source": [
        "<a href=\"https://colab.research.google.com/github/SamuelOnyangoOmondi/Titanic-Survival-Prediction/blob/main/Titanic_Survival_Predictionipynb.ipynb\" target=\"_parent\"><img src=\"https://colab.research.google.com/assets/colab-badge.svg\" alt=\"Open In Colab\"/></a>"
      ]
    },
    {
      "cell_type": "markdown",
      "source": [
        "# Titanic Survival Prediction\n",
        "**Introduction**\n",
        "This project aims to predict survival on the Titanic using machine learning models. We will develop two models: a simple neural network and a second neural network enhanced with optimization techniques. The project demonstrates the application of data preprocessing, model implementation, optimization, and error analysis to improve model performance.\n",
        "\n",
        "Dataset Acquisition\n",
        "The dataset is divided into two parts: training data (train.csv) and test data (test.csv). The training set includes passenger information along with the survival status, while the test set includes passenger information without the survival status."
      ],
      "metadata": {
        "id": "OUPj8LHYFSZF"
      }
    },
    {
      "cell_type": "code",
      "source": [
        "import pandas as pd"
      ],
      "metadata": {
        "id": "8I8QQlKMFPhf"
      },
      "execution_count": 27,
      "outputs": []
    },
    {
      "cell_type": "code",
      "metadata": {
        "id": "2V_CBOqIKXtd"
      },
      "source": [
        "train_df = pd.read_csv('/content/drive/MyDrive/data/train.csv')\n",
        "test_df = pd.read_csv('/content/drive/MyDrive/data/test.csv')"
      ],
      "execution_count": 29,
      "outputs": []
    },
    {
      "cell_type": "code",
      "source": [
        "from google.colab import drive\n",
        "drive.mount('/content/drive')"
      ],
      "metadata": {
        "colab": {
          "base_uri": "https://localhost:8080/"
        },
        "id": "sKt7WtDHAtp2",
        "outputId": "c032e37f-1ec5-4d76-8a60-0e21a49df956"
      },
      "execution_count": null,
      "outputs": [
        {
          "output_type": "stream",
          "name": "stdout",
          "text": [
            "Mounted at /content/drive\n"
          ]
        }
      ]
    },
    {
      "cell_type": "markdown",
      "source": [
        "# Data Preparation\n",
        "**Preprocessing**\n",
        "We handle missing values, encode categorical variables, and normalize numerical features to make our dataset suitable for training neural networks."
      ],
      "metadata": {
        "id": "PWx4XPGPGYjc"
      }
    },
    {
      "cell_type": "code",
      "source": [
        "from sklearn.model_selection import train_test_split\n",
        "from sklearn.compose import ColumnTransformer\n",
        "from sklearn.preprocessing import StandardScaler, OneHotEncoder\n",
        "from sklearn.pipeline import Pipeline\n",
        "from sklearn.impute import SimpleImputer\n",
        "\n",
        "features = ['Pclass', 'Sex', 'Age', 'SibSp', 'Parch', 'Fare', 'Embarked']\n",
        "X = train_df[features]\n",
        "y = train_df['Survived']\n",
        "\n",
        "numeric_features = ['Age', 'SibSp', 'Parch', 'Fare']\n",
        "numeric_transformer = Pipeline(steps=[\n",
        "    ('imputer', SimpleImputer(strategy='median')),\n",
        "    ('scaler', StandardScaler())])\n",
        "\n",
        "categorical_features = ['Pclass', 'Sex', 'Embarked']\n",
        "categorical_transformer = Pipeline(steps=[\n",
        "    ('imputer', SimpleImputer(strategy='constant', fill_value='missing')),\n",
        "    ('onehot', OneHotEncoder(handle_unknown='ignore'))])\n",
        "\n",
        "preprocessor = ColumnTransformer(\n",
        "    transformers=[\n",
        "        ('num', numeric_transformer, numeric_features),\n",
        "        ('cat', categorical_transformer, categorical_features)])\n",
        "\n",
        "X_preprocessed = preprocessor.fit_transform(X)\n"
      ],
      "metadata": {
        "id": "lJrN6ksmGcig"
      },
      "execution_count": 30,
      "outputs": []
    },
    {
      "cell_type": "markdown",
      "source": [
        "# Splitting the Dataset\n",
        "We split our preprocessed dataset into training and validation sets."
      ],
      "metadata": {
        "id": "vCOmUJwUGk3G"
      }
    },
    {
      "cell_type": "code",
      "source": [
        "X_train, X_val, y_train, y_val = train_test_split(X_preprocessed, y, test_size=0.2, random_state=42)\n"
      ],
      "metadata": {
        "id": "XmcOBY04GoJ7"
      },
      "execution_count": 31,
      "outputs": []
    },
    {
      "cell_type": "markdown",
      "source": [
        "# Model Implementation\n",
        "**Simple Neural Network**\n",
        "Our first model is a simple neural network without optimization."
      ],
      "metadata": {
        "id": "aIlz5TWKGriG"
      }
    },
    {
      "cell_type": "code",
      "source": [
        "from tensorflow.keras.models import Sequential\n",
        "from tensorflow.keras.layers import Dense\n",
        "\n",
        "model_1 = Sequential([\n",
        "    Dense(64, activation='relu', input_shape=(X_train.shape[1],)),\n",
        "    Dense(64, activation='relu'),\n",
        "    Dense(1, activation='sigmoid')\n",
        "])\n",
        "\n",
        "model_1.compile(optimizer='adam',\n",
        "                loss='binary_crossentropy',\n",
        "                metrics=['accuracy'])\n"
      ],
      "metadata": {
        "id": "PmbGkIFLGw-r"
      },
      "execution_count": 32,
      "outputs": []
    },
    {
      "cell_type": "markdown",
      "source": [
        "# Training the Simple Model"
      ],
      "metadata": {
        "id": "a1vmy-BBG3DK"
      }
    },
    {
      "cell_type": "code",
      "source": [
        "history_1 = model_1.fit(X_train, y_train, validation_data=(X_val, y_val), epochs=50, batch_size=64, verbose=1)\n"
      ],
      "metadata": {
        "colab": {
          "base_uri": "https://localhost:8080/"
        },
        "id": "vwQrIx75G65u",
        "outputId": "6f1ae598-77f2-47a3-8f5b-d0a8c288b69a"
      },
      "execution_count": 33,
      "outputs": [
        {
          "output_type": "stream",
          "name": "stdout",
          "text": [
            "Epoch 1/50\n",
            "12/12 [==============================] - 1s 15ms/step - loss: 0.6725 - accuracy: 0.5927 - val_loss: 0.6234 - val_accuracy: 0.6648\n",
            "Epoch 2/50\n",
            "12/12 [==============================] - 0s 5ms/step - loss: 0.5940 - accuracy: 0.7191 - val_loss: 0.5689 - val_accuracy: 0.7263\n",
            "Epoch 3/50\n",
            "12/12 [==============================] - 0s 3ms/step - loss: 0.5371 - accuracy: 0.7823 - val_loss: 0.5201 - val_accuracy: 0.7486\n",
            "Epoch 4/50\n",
            "12/12 [==============================] - 0s 5ms/step - loss: 0.4930 - accuracy: 0.7907 - val_loss: 0.4815 - val_accuracy: 0.7877\n",
            "Epoch 5/50\n",
            "12/12 [==============================] - 0s 5ms/step - loss: 0.4626 - accuracy: 0.8230 - val_loss: 0.4565 - val_accuracy: 0.8101\n",
            "Epoch 6/50\n",
            "12/12 [==============================] - 0s 4ms/step - loss: 0.4393 - accuracy: 0.8202 - val_loss: 0.4431 - val_accuracy: 0.8045\n",
            "Epoch 7/50\n",
            "12/12 [==============================] - 0s 4ms/step - loss: 0.4257 - accuracy: 0.8202 - val_loss: 0.4363 - val_accuracy: 0.8101\n",
            "Epoch 8/50\n",
            "12/12 [==============================] - 0s 3ms/step - loss: 0.4183 - accuracy: 0.8230 - val_loss: 0.4346 - val_accuracy: 0.8101\n",
            "Epoch 9/50\n",
            "12/12 [==============================] - 0s 3ms/step - loss: 0.4123 - accuracy: 0.8230 - val_loss: 0.4321 - val_accuracy: 0.8101\n",
            "Epoch 10/50\n",
            "12/12 [==============================] - 0s 5ms/step - loss: 0.4066 - accuracy: 0.8258 - val_loss: 0.4317 - val_accuracy: 0.8101\n",
            "Epoch 11/50\n",
            "12/12 [==============================] - 0s 3ms/step - loss: 0.4020 - accuracy: 0.8301 - val_loss: 0.4325 - val_accuracy: 0.8101\n",
            "Epoch 12/50\n",
            "12/12 [==============================] - 0s 5ms/step - loss: 0.3977 - accuracy: 0.8315 - val_loss: 0.4305 - val_accuracy: 0.8045\n",
            "Epoch 13/50\n",
            "12/12 [==============================] - 0s 5ms/step - loss: 0.3946 - accuracy: 0.8315 - val_loss: 0.4313 - val_accuracy: 0.8156\n",
            "Epoch 14/50\n",
            "12/12 [==============================] - 0s 3ms/step - loss: 0.3921 - accuracy: 0.8399 - val_loss: 0.4333 - val_accuracy: 0.8101\n",
            "Epoch 15/50\n",
            "12/12 [==============================] - 0s 5ms/step - loss: 0.3912 - accuracy: 0.8357 - val_loss: 0.4377 - val_accuracy: 0.7989\n",
            "Epoch 16/50\n",
            "12/12 [==============================] - 0s 3ms/step - loss: 0.3890 - accuracy: 0.8385 - val_loss: 0.4356 - val_accuracy: 0.8212\n",
            "Epoch 17/50\n",
            "12/12 [==============================] - 0s 3ms/step - loss: 0.3900 - accuracy: 0.8427 - val_loss: 0.4405 - val_accuracy: 0.8212\n",
            "Epoch 18/50\n",
            "12/12 [==============================] - 0s 3ms/step - loss: 0.3857 - accuracy: 0.8441 - val_loss: 0.4424 - val_accuracy: 0.8212\n",
            "Epoch 19/50\n",
            "12/12 [==============================] - 0s 5ms/step - loss: 0.3854 - accuracy: 0.8399 - val_loss: 0.4436 - val_accuracy: 0.8212\n",
            "Epoch 20/50\n",
            "12/12 [==============================] - 0s 5ms/step - loss: 0.3821 - accuracy: 0.8427 - val_loss: 0.4368 - val_accuracy: 0.8212\n",
            "Epoch 21/50\n",
            "12/12 [==============================] - 0s 3ms/step - loss: 0.3820 - accuracy: 0.8427 - val_loss: 0.4405 - val_accuracy: 0.8380\n",
            "Epoch 22/50\n",
            "12/12 [==============================] - 0s 5ms/step - loss: 0.3799 - accuracy: 0.8455 - val_loss: 0.4497 - val_accuracy: 0.8156\n",
            "Epoch 23/50\n",
            "12/12 [==============================] - 0s 5ms/step - loss: 0.3793 - accuracy: 0.8427 - val_loss: 0.4502 - val_accuracy: 0.8156\n",
            "Epoch 24/50\n",
            "12/12 [==============================] - 0s 4ms/step - loss: 0.3764 - accuracy: 0.8427 - val_loss: 0.4467 - val_accuracy: 0.8212\n",
            "Epoch 25/50\n",
            "12/12 [==============================] - 0s 5ms/step - loss: 0.3768 - accuracy: 0.8455 - val_loss: 0.4443 - val_accuracy: 0.8324\n",
            "Epoch 26/50\n",
            "12/12 [==============================] - 0s 3ms/step - loss: 0.3751 - accuracy: 0.8483 - val_loss: 0.4446 - val_accuracy: 0.8268\n",
            "Epoch 27/50\n",
            "12/12 [==============================] - 0s 3ms/step - loss: 0.3750 - accuracy: 0.8483 - val_loss: 0.4457 - val_accuracy: 0.8268\n",
            "Epoch 28/50\n",
            "12/12 [==============================] - 0s 3ms/step - loss: 0.3731 - accuracy: 0.8511 - val_loss: 0.4457 - val_accuracy: 0.8324\n",
            "Epoch 29/50\n",
            "12/12 [==============================] - 0s 5ms/step - loss: 0.3718 - accuracy: 0.8511 - val_loss: 0.4462 - val_accuracy: 0.8324\n",
            "Epoch 30/50\n",
            "12/12 [==============================] - 0s 4ms/step - loss: 0.3713 - accuracy: 0.8497 - val_loss: 0.4469 - val_accuracy: 0.8268\n",
            "Epoch 31/50\n",
            "12/12 [==============================] - 0s 3ms/step - loss: 0.3698 - accuracy: 0.8511 - val_loss: 0.4440 - val_accuracy: 0.8324\n",
            "Epoch 32/50\n",
            "12/12 [==============================] - 0s 5ms/step - loss: 0.3706 - accuracy: 0.8483 - val_loss: 0.4439 - val_accuracy: 0.8268\n",
            "Epoch 33/50\n",
            "12/12 [==============================] - 0s 3ms/step - loss: 0.3683 - accuracy: 0.8483 - val_loss: 0.4463 - val_accuracy: 0.8324\n",
            "Epoch 34/50\n",
            "12/12 [==============================] - 0s 3ms/step - loss: 0.3669 - accuracy: 0.8497 - val_loss: 0.4526 - val_accuracy: 0.8268\n",
            "Epoch 35/50\n",
            "12/12 [==============================] - 0s 5ms/step - loss: 0.3664 - accuracy: 0.8497 - val_loss: 0.4520 - val_accuracy: 0.8268\n",
            "Epoch 36/50\n",
            "12/12 [==============================] - 0s 4ms/step - loss: 0.3667 - accuracy: 0.8469 - val_loss: 0.4457 - val_accuracy: 0.8212\n",
            "Epoch 37/50\n",
            "12/12 [==============================] - 0s 3ms/step - loss: 0.3647 - accuracy: 0.8511 - val_loss: 0.4480 - val_accuracy: 0.8324\n",
            "Epoch 38/50\n",
            "12/12 [==============================] - 0s 4ms/step - loss: 0.3639 - accuracy: 0.8483 - val_loss: 0.4508 - val_accuracy: 0.8324\n",
            "Epoch 39/50\n",
            "12/12 [==============================] - 0s 3ms/step - loss: 0.3628 - accuracy: 0.8497 - val_loss: 0.4517 - val_accuracy: 0.8324\n",
            "Epoch 40/50\n",
            "12/12 [==============================] - 0s 4ms/step - loss: 0.3619 - accuracy: 0.8525 - val_loss: 0.4516 - val_accuracy: 0.8212\n",
            "Epoch 41/50\n",
            "12/12 [==============================] - 0s 3ms/step - loss: 0.3631 - accuracy: 0.8497 - val_loss: 0.4569 - val_accuracy: 0.8268\n",
            "Epoch 42/50\n",
            "12/12 [==============================] - 0s 5ms/step - loss: 0.3654 - accuracy: 0.8539 - val_loss: 0.4705 - val_accuracy: 0.8101\n",
            "Epoch 43/50\n",
            "12/12 [==============================] - 0s 3ms/step - loss: 0.3608 - accuracy: 0.8497 - val_loss: 0.4665 - val_accuracy: 0.8212\n",
            "Epoch 44/50\n",
            "12/12 [==============================] - 0s 4ms/step - loss: 0.3586 - accuracy: 0.8483 - val_loss: 0.4601 - val_accuracy: 0.8156\n",
            "Epoch 45/50\n",
            "12/12 [==============================] - 0s 3ms/step - loss: 0.3603 - accuracy: 0.8441 - val_loss: 0.4638 - val_accuracy: 0.8045\n",
            "Epoch 46/50\n",
            "12/12 [==============================] - 0s 4ms/step - loss: 0.3593 - accuracy: 0.8469 - val_loss: 0.4565 - val_accuracy: 0.8156\n",
            "Epoch 47/50\n",
            "12/12 [==============================] - 0s 4ms/step - loss: 0.3580 - accuracy: 0.8469 - val_loss: 0.4597 - val_accuracy: 0.8268\n",
            "Epoch 48/50\n",
            "12/12 [==============================] - 0s 5ms/step - loss: 0.3590 - accuracy: 0.8567 - val_loss: 0.4770 - val_accuracy: 0.8156\n",
            "Epoch 49/50\n",
            "12/12 [==============================] - 0s 5ms/step - loss: 0.3586 - accuracy: 0.8497 - val_loss: 0.4575 - val_accuracy: 0.8212\n",
            "Epoch 50/50\n",
            "12/12 [==============================] - 0s 5ms/step - loss: 0.3552 - accuracy: 0.8511 - val_loss: 0.4551 - val_accuracy: 0.8212\n"
          ]
        }
      ]
    },
    {
      "cell_type": "markdown",
      "source": [
        "# Neural Network with Optimization Techniques\n",
        "Our second model incorporates optimization techniques such as learning rate scheduling, early stopping, and dropout."
      ],
      "metadata": {
        "id": "bFo0vLV1HAA-"
      }
    },
    {
      "cell_type": "code",
      "source": [
        "from tensorflow.keras.layers import Dropout\n",
        "from tensorflow.keras.callbacks import EarlyStopping, ReduceLROnPlateau\n",
        "\n",
        "model_2 = Sequential([\n",
        "    Dense(64, activation='relu', input_shape=(X_train.shape[1],)),\n",
        "    Dropout(0.5),\n",
        "    Dense(64, activation='relu'),\n",
        "    Dropout(0.5),\n",
        "    Dense(1, activation='sigmoid')\n",
        "])\n",
        "\n",
        "model_2.compile(optimizer='adam',\n",
        "                loss='binary_crossentropy',\n",
        "                metrics=['accuracy'])\n",
        "\n",
        "callbacks = [\n",
        "    EarlyStopping(monitor='val_loss', patience=10, restore_best_weights=True),\n",
        "    ReduceLROnPlateau(monitor='val_loss', factor=0.2, patience=5)\n",
        "]\n",
        "\n",
        "history_2 = model_2.fit(X_train, y_train, validation_data=(X_val, y_val), epochs=100, batch_size=64, callbacks=callbacks, verbose=1)\n"
      ],
      "metadata": {
        "colab": {
          "base_uri": "https://localhost:8080/"
        },
        "id": "KMNDwfOpHED4",
        "outputId": "6246e060-a4df-4216-98e0-6abd6a8b39fa"
      },
      "execution_count": 34,
      "outputs": [
        {
          "output_type": "stream",
          "name": "stdout",
          "text": [
            "Epoch 1/100\n",
            "12/12 [==============================] - 1s 15ms/step - loss: 0.6824 - accuracy: 0.6025 - val_loss: 0.6430 - val_accuracy: 0.5978 - lr: 0.0010\n",
            "Epoch 2/100\n",
            "12/12 [==============================] - 0s 3ms/step - loss: 0.6546 - accuracy: 0.6306 - val_loss: 0.6111 - val_accuracy: 0.6927 - lr: 0.0010\n",
            "Epoch 3/100\n",
            "12/12 [==============================] - 0s 5ms/step - loss: 0.6022 - accuracy: 0.6952 - val_loss: 0.5850 - val_accuracy: 0.6872 - lr: 0.0010\n",
            "Epoch 4/100\n",
            "12/12 [==============================] - 0s 6ms/step - loss: 0.6093 - accuracy: 0.7022 - val_loss: 0.5600 - val_accuracy: 0.7207 - lr: 0.0010\n",
            "Epoch 5/100\n",
            "12/12 [==============================] - 0s 3ms/step - loss: 0.5961 - accuracy: 0.6868 - val_loss: 0.5374 - val_accuracy: 0.7374 - lr: 0.0010\n",
            "Epoch 6/100\n",
            "12/12 [==============================] - 0s 5ms/step - loss: 0.5607 - accuracy: 0.7402 - val_loss: 0.5171 - val_accuracy: 0.7542 - lr: 0.0010\n",
            "Epoch 7/100\n",
            "12/12 [==============================] - 0s 7ms/step - loss: 0.5218 - accuracy: 0.7640 - val_loss: 0.4970 - val_accuracy: 0.7430 - lr: 0.0010\n",
            "Epoch 8/100\n",
            "12/12 [==============================] - 0s 6ms/step - loss: 0.5195 - accuracy: 0.7556 - val_loss: 0.4791 - val_accuracy: 0.7989 - lr: 0.0010\n",
            "Epoch 9/100\n",
            "12/12 [==============================] - 0s 6ms/step - loss: 0.5246 - accuracy: 0.7669 - val_loss: 0.4670 - val_accuracy: 0.8101 - lr: 0.0010\n",
            "Epoch 10/100\n",
            "12/12 [==============================] - 0s 14ms/step - loss: 0.4918 - accuracy: 0.7781 - val_loss: 0.4574 - val_accuracy: 0.8045 - lr: 0.0010\n",
            "Epoch 11/100\n",
            "12/12 [==============================] - 0s 8ms/step - loss: 0.4914 - accuracy: 0.7907 - val_loss: 0.4493 - val_accuracy: 0.8045 - lr: 0.0010\n",
            "Epoch 12/100\n",
            "12/12 [==============================] - 0s 6ms/step - loss: 0.4981 - accuracy: 0.7795 - val_loss: 0.4444 - val_accuracy: 0.8156 - lr: 0.0010\n",
            "Epoch 13/100\n",
            "12/12 [==============================] - 0s 11ms/step - loss: 0.4869 - accuracy: 0.8048 - val_loss: 0.4399 - val_accuracy: 0.8156 - lr: 0.0010\n",
            "Epoch 14/100\n",
            "12/12 [==============================] - 0s 6ms/step - loss: 0.4882 - accuracy: 0.7963 - val_loss: 0.4369 - val_accuracy: 0.8101 - lr: 0.0010\n",
            "Epoch 15/100\n",
            "12/12 [==============================] - 0s 13ms/step - loss: 0.4648 - accuracy: 0.7963 - val_loss: 0.4349 - val_accuracy: 0.8101 - lr: 0.0010\n",
            "Epoch 16/100\n",
            "12/12 [==============================] - 0s 8ms/step - loss: 0.4815 - accuracy: 0.7963 - val_loss: 0.4329 - val_accuracy: 0.8045 - lr: 0.0010\n",
            "Epoch 17/100\n",
            "12/12 [==============================] - 0s 9ms/step - loss: 0.4758 - accuracy: 0.8034 - val_loss: 0.4367 - val_accuracy: 0.8101 - lr: 0.0010\n",
            "Epoch 18/100\n",
            "12/12 [==============================] - 0s 6ms/step - loss: 0.4735 - accuracy: 0.7935 - val_loss: 0.4364 - val_accuracy: 0.8156 - lr: 0.0010\n",
            "Epoch 19/100\n",
            "12/12 [==============================] - 0s 6ms/step - loss: 0.4481 - accuracy: 0.8104 - val_loss: 0.4353 - val_accuracy: 0.8101 - lr: 0.0010\n",
            "Epoch 20/100\n",
            "12/12 [==============================] - 0s 9ms/step - loss: 0.4664 - accuracy: 0.8006 - val_loss: 0.4352 - val_accuracy: 0.8156 - lr: 0.0010\n",
            "Epoch 21/100\n",
            "12/12 [==============================] - 0s 6ms/step - loss: 0.4465 - accuracy: 0.8160 - val_loss: 0.4343 - val_accuracy: 0.8156 - lr: 0.0010\n",
            "Epoch 22/100\n",
            "12/12 [==============================] - 0s 9ms/step - loss: 0.4654 - accuracy: 0.8104 - val_loss: 0.4331 - val_accuracy: 0.8156 - lr: 2.0000e-04\n",
            "Epoch 23/100\n",
            "12/12 [==============================] - 0s 6ms/step - loss: 0.4429 - accuracy: 0.7978 - val_loss: 0.4327 - val_accuracy: 0.8101 - lr: 2.0000e-04\n",
            "Epoch 24/100\n",
            "12/12 [==============================] - 0s 5ms/step - loss: 0.4557 - accuracy: 0.8048 - val_loss: 0.4322 - val_accuracy: 0.8101 - lr: 2.0000e-04\n",
            "Epoch 25/100\n",
            "12/12 [==============================] - 0s 5ms/step - loss: 0.4368 - accuracy: 0.8034 - val_loss: 0.4323 - val_accuracy: 0.8101 - lr: 2.0000e-04\n",
            "Epoch 26/100\n",
            "12/12 [==============================] - 0s 10ms/step - loss: 0.4491 - accuracy: 0.8132 - val_loss: 0.4319 - val_accuracy: 0.8101 - lr: 2.0000e-04\n",
            "Epoch 27/100\n",
            "12/12 [==============================] - 0s 8ms/step - loss: 0.4662 - accuracy: 0.8118 - val_loss: 0.4315 - val_accuracy: 0.8101 - lr: 2.0000e-04\n",
            "Epoch 28/100\n",
            "12/12 [==============================] - 0s 7ms/step - loss: 0.4621 - accuracy: 0.7921 - val_loss: 0.4309 - val_accuracy: 0.8101 - lr: 2.0000e-04\n",
            "Epoch 29/100\n",
            "12/12 [==============================] - 0s 10ms/step - loss: 0.4434 - accuracy: 0.8104 - val_loss: 0.4308 - val_accuracy: 0.8045 - lr: 2.0000e-04\n",
            "Epoch 30/100\n",
            "12/12 [==============================] - 0s 7ms/step - loss: 0.4398 - accuracy: 0.8216 - val_loss: 0.4307 - val_accuracy: 0.8045 - lr: 2.0000e-04\n",
            "Epoch 31/100\n",
            "12/12 [==============================] - 0s 7ms/step - loss: 0.4528 - accuracy: 0.8104 - val_loss: 0.4307 - val_accuracy: 0.8101 - lr: 2.0000e-04\n",
            "Epoch 32/100\n",
            "12/12 [==============================] - 0s 9ms/step - loss: 0.4505 - accuracy: 0.8076 - val_loss: 0.4305 - val_accuracy: 0.8101 - lr: 2.0000e-04\n",
            "Epoch 33/100\n",
            "12/12 [==============================] - 0s 20ms/step - loss: 0.4564 - accuracy: 0.8034 - val_loss: 0.4304 - val_accuracy: 0.8101 - lr: 2.0000e-04\n",
            "Epoch 34/100\n",
            "12/12 [==============================] - 0s 13ms/step - loss: 0.4590 - accuracy: 0.8020 - val_loss: 0.4304 - val_accuracy: 0.8101 - lr: 2.0000e-04\n",
            "Epoch 35/100\n",
            "12/12 [==============================] - 0s 15ms/step - loss: 0.4550 - accuracy: 0.8244 - val_loss: 0.4303 - val_accuracy: 0.8101 - lr: 2.0000e-04\n",
            "Epoch 36/100\n",
            "12/12 [==============================] - 0s 9ms/step - loss: 0.4366 - accuracy: 0.8287 - val_loss: 0.4305 - val_accuracy: 0.8101 - lr: 2.0000e-04\n",
            "Epoch 37/100\n",
            "12/12 [==============================] - 0s 11ms/step - loss: 0.4497 - accuracy: 0.8090 - val_loss: 0.4305 - val_accuracy: 0.8101 - lr: 2.0000e-04\n",
            "Epoch 38/100\n",
            "12/12 [==============================] - 0s 10ms/step - loss: 0.4374 - accuracy: 0.8216 - val_loss: 0.4305 - val_accuracy: 0.8101 - lr: 2.0000e-04\n",
            "Epoch 39/100\n",
            "12/12 [==============================] - 0s 15ms/step - loss: 0.4491 - accuracy: 0.8006 - val_loss: 0.4306 - val_accuracy: 0.8101 - lr: 2.0000e-04\n",
            "Epoch 40/100\n",
            "12/12 [==============================] - 0s 14ms/step - loss: 0.4635 - accuracy: 0.8034 - val_loss: 0.4303 - val_accuracy: 0.8045 - lr: 2.0000e-04\n",
            "Epoch 41/100\n",
            "12/12 [==============================] - 0s 25ms/step - loss: 0.4353 - accuracy: 0.8104 - val_loss: 0.4303 - val_accuracy: 0.8045 - lr: 4.0000e-05\n",
            "Epoch 42/100\n",
            "12/12 [==============================] - 0s 17ms/step - loss: 0.4555 - accuracy: 0.8146 - val_loss: 0.4303 - val_accuracy: 0.8045 - lr: 4.0000e-05\n",
            "Epoch 43/100\n",
            "12/12 [==============================] - 0s 15ms/step - loss: 0.4301 - accuracy: 0.8118 - val_loss: 0.4303 - val_accuracy: 0.8045 - lr: 4.0000e-05\n",
            "Epoch 44/100\n",
            "12/12 [==============================] - 0s 16ms/step - loss: 0.4552 - accuracy: 0.8174 - val_loss: 0.4305 - val_accuracy: 0.8045 - lr: 4.0000e-05\n",
            "Epoch 45/100\n",
            "12/12 [==============================] - 0s 18ms/step - loss: 0.4552 - accuracy: 0.7935 - val_loss: 0.4306 - val_accuracy: 0.8045 - lr: 4.0000e-05\n"
          ]
        }
      ]
    },
    {
      "cell_type": "markdown",
      "source": [
        "# Model Evaluation and Error Analysis\n",
        "Visualizing Training and Validation Loss"
      ],
      "metadata": {
        "id": "Y7OPTEEWHLrY"
      }
    },
    {
      "cell_type": "code",
      "source": [
        "import matplotlib.pyplot as plt\n",
        "\n",
        "plt.plot(history_1.history['loss'], label='Model 1 Training Loss')\n",
        "plt.plot(history_1.history['val_loss'], label='Model 1 Validation Loss')\n",
        "plt.plot(history_2.history['loss'], label='Model 2 Training Loss')\n",
        "plt.plot(history_2.history['val_loss'], label='Model 2 Validation Loss')\n",
        "plt.title('Training and Validation Loss')\n",
        "plt.legend()\n",
        "plt.show()\n"
      ],
      "metadata": {
        "colab": {
          "base_uri": "https://localhost:8080/",
          "height": 452
        },
        "id": "eFWVQ20SHUmc",
        "outputId": "d7403c76-5156-4b9f-e638-0aed6aa3068e"
      },
      "execution_count": 35,
      "outputs": [
        {
          "output_type": "display_data",
          "data": {
            "text/plain": [
              "<Figure size 640x480 with 1 Axes>"
            ],
            "image/png": "[encoded data removed]"
          },
          "metadata": {}
        }
      ]
    },
    {
      "cell_type": "markdown",
      "source": [
        "# Confusion Matrix and F1 Score"
      ],
      "metadata": {
        "id": "8rIJ9VPHHkoz"
      }
    },
    {
      "cell_type": "code",
      "source": [
        "from sklearn.metrics import confusion_matrix, f1_score\n",
        "\n",
        "# Predictions\n",
        "y_pred_1 = (model_1.predict(X_val) > 0.5).astype(int)\n",
        "y_pred_2 = (model_2.predict(X_val) > 0.5).astype(int)\n",
        "\n",
        "# Confusion matrix and F1 score for Model 1\n",
        "confusion_matrix_1 = confusion_matrix(y_val, y_pred_1)\n",
        "f1_score_1 = f1_score(y_val, y_pred_1)\n",
        "\n",
        "# Confusion matrix and F1 score for Model 2\n",
        "confusion_matrix_2 = confusion_matrix(y_val, y_pred_2)\n",
        "f1_score_2 = f1_score(y_val, y_pred_2)\n",
        "\n",
        "print(f\"Model 1 F1 Score: {f1_score_1}\")\n",
        "print(f\"Model 2 F1 Score: {f1_score_2}\")\n"
      ],
      "metadata": {
        "colab": {
          "base_uri": "https://localhost:8080/"
        },
        "id": "dT0m-FiwHmVn",
        "outputId": "6171abe6-6f33-452f-df95-a1be5c3e843d"
      },
      "execution_count": 36,
      "outputs": [
        {
          "output_type": "stream",
          "name": "stdout",
          "text": [
            "6/6 [==============================] - 0s 2ms/step\n",
            "6/6 [==============================] - 0s 2ms/step\n",
            "Model 1 F1 Score: 0.7681159420289855\n",
            "Model 2 F1 Score: 0.7571428571428571\n"
          ]
        }
      ]
    },
    {
      "cell_type": "markdown",
      "source": [
        "# Model Performance\n",
        "**Model 1** (Simple Neural Network) achieved an F1 score of approximately 0.768, indicating a relatively high balance between precision and recall. This suggests that even without advanced optimization techniques, a well-structured neural network can effectively capture the underlying patterns in the Titanic dataset to predict survival outcomes.\n",
        "\n",
        "**Model 2** (Neural Network with Optimization Techniques), which incorporated optimization techniques such as dropout and early stopping, yielded an F1 score of around 0.757. This score is slightly lower than that of Model 1, but still indicates a good predictive performance."
      ],
      "metadata": {
        "id": "o4JDi7ArHuLC"
      }
    }
  ]
}